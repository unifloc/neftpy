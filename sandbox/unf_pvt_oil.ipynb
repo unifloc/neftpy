{
 "cells": [
  {
   "cell_type": "markdown",
   "metadata": {},
   "source": [
    "для проверки функций расчета свойств нефти"
   ]
  },
  {
   "cell_type": "code",
   "execution_count": 1,
   "metadata": {},
   "outputs": [],
   "source": [
    "import neftpy.upvt_np_vect as pvt\n",
    "import neftpy.upvt_oil as pvto \n",
    "\n",
    "import matplotlib.pyplot as plt\n",
    "import numpy as np"
   ]
  },
  {
   "cell_type": "markdown",
   "metadata": {},
   "source": [
    "# Плотность нефти"
   ]
  },
  {
   "cell_type": "code",
   "execution_count": 2,
   "metadata": {},
   "outputs": [
    {
     "name": "stdout",
     "output_type": "stream",
     "text": [
      "[842.38166972]\n"
     ]
    }
   ],
   "source": [
    "print(pvto.unf_rho_oil_Mccain_kgm3())"
   ]
  },
  {
   "cell_type": "code",
   "execution_count": 3,
   "metadata": {},
   "outputs": [],
   "source": [
    "p_MPaa = np.array([1 ])\n",
    "t_K = np.array([300 ])\n",
    "pb_MPaa = np.array([12])\n",
    "rs_m3m3 = np.array([121])  \n",
    "co_1MPa = np.array([3e-3])\n",
    "gamma_oil = np.array([0.86, 0.87])\n",
    "gamma_gas = np.array([0.8]) \n",
    "gamma_gassp = np.array([0])"
   ]
  },
  {
   "cell_type": "code",
   "execution_count": 4,
   "metadata": {},
   "outputs": [
    {
     "name": "stdout",
     "output_type": "stream",
     "text": [
      "[748.5066161  757.40120864]\n"
     ]
    }
   ],
   "source": [
    "print(pvto.unf_rho_oil_Mccain_kgm3(p_MPaa = p_MPaa,\n",
    "                                    t_K = t_K,\n",
    "                                    pb_MPaa = pb_MPaa,\n",
    "                                    rs_m3m3 = rs_m3m3,\n",
    "                                    co_1MPa = co_1MPa,\n",
    "                                    gamma_oil = gamma_oil,\n",
    "                                    gamma_gas = gamma_gas,\n",
    "                                    gamma_gassp = gamma_gassp))"
   ]
  },
  {
   "cell_type": "code",
   "execution_count": null,
   "metadata": {},
   "outputs": [],
   "source": [
    "def ro_po_equation(ro_po, vars):\n",
    "        gamma_gassp, gamma_gas, gamma_oil, rs_scfstb = vars\n",
    "        ro_a = -49.8930 + 85.0149 * gamma_gassp - 3.70373 * gamma_gassp * ro_po +\\\n",
    "            0.0479818 * gamma_gassp * ro_po ** 2 + 2.98914 * ro_po - 0.0356888 * ro_po ** 2\n",
    "        return (rs_scfstb * gamma_gas + 4600 * gamma_oil) / (73.71 + rs_scfstb * gamma_gas / ro_a) -ro_po"
   ]
  },
  {
   "cell_type": "code",
   "execution_count": null,
   "metadata": {},
   "outputs": [
    {
     "data": {
      "text/plain": [
       "array([55.56561013, 55.31555732])"
      ]
     },
     "execution_count": 52,
     "metadata": {},
     "output_type": "execute_result"
    }
   ],
   "source": [
    "ro_po_equation(np.array([1,2]), (gamma_gassp, gamma_gas, gamma_oil, rs_m3m3))"
   ]
  }
 ],
 "metadata": {
  "kernelspec": {
   "display_name": ".venv",
   "language": "python",
   "name": "python3"
  },
  "language_info": {
   "codemirror_mode": {
    "name": "ipython",
    "version": 3
   },
   "file_extension": ".py",
   "mimetype": "text/x-python",
   "name": "python",
   "nbconvert_exporter": "python",
   "pygments_lexer": "ipython3",
   "version": "3.12.5"
  }
 },
 "nbformat": 4,
 "nbformat_minor": 2
}
