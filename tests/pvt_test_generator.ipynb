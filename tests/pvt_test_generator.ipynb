{
 "cells": [
  {
   "cell_type": "markdown",
   "metadata": {},
   "source": [
    "Генератор значений для тестов"
   ]
  },
  {
   "cell_type": "code",
   "execution_count": 1,
   "metadata": {},
   "outputs": [],
   "source": [
    "import neftpy.upvt_oil as pvto\n",
    "import neftpy.uconst as uc\n",
    "import neftpy.upvt_np_vect as pvt\n",
    "import neftpy.upvt_gas as pvtg\n",
    "\n",
    "import numpy as np"
   ]
  },
  {
   "cell_type": "code",
   "execution_count": 4,
   "metadata": {},
   "outputs": [
    {
     "name": "stdout",
     "output_type": "stream",
     "text": [
      "Путь к надстройке Unifloc VBA -- e:\\unifloc\\unifloc_vba\\UniflocVBA_7.xlam\n",
      "объект unf обеспечивает доступ к API Unifloc VBA\n"
     ]
    }
   ],
   "source": [
    "\"\"\"\n",
    "Импорт унифлока зависит от корректных путей к надстройке\n",
    "Путь задается вручную в явном виде (так проще всего)\n",
    "\"\"\"\n",
    "\n",
    "unifloc_path = r'e:\\unifloc\\unifloc_vba'\n",
    "unifloc_xlam = unifloc_path +r'\\UniflocVBA_7.xlam'\n",
    "print('Путь к надстройке Unifloc VBA -- '+ unifloc_xlam)\n",
    "\n",
    "import sys\n",
    "sys.path.insert(0, unifloc_path) # добавим в путь поиска пакетов python папку где находится репозиторий Unifloc VBA\n",
    "import unifloc_vba_python_api.python_api as unifloc # импортируем python_api для Unifloc VBA\n",
    "\n",
    "# создаем объект имеющий доступ к расчетам Unifloc VBA\n",
    "unf = unifloc.API(unifloc_xlam)\n",
    "\n",
    "print('объект unf обеспечивает доступ к API Unifloc VBA')\n",
    "\n",
    "# кроме подключения к API подключимся низкоуровнево, чтобы видеть все функции\n",
    "import xlwings as xw\n",
    "book = xw.Book(unifloc_xlam)"
   ]
  },
  {
   "cell_type": "markdown",
   "metadata": {},
   "source": [
    "# unf_pb_Standing_MPaa"
   ]
  },
  {
   "cell_type": "code",
   "execution_count": 5,
   "metadata": {},
   "outputs": [],
   "source": [
    "# аналог pvto.unf_pb_Standing_MPaa в унифлок vba unf_pvt_pb_Standing_MPa\n",
    "\n",
    "unf_pvt_pb_Standing_MPa = book.macro(\"unf_pvt_pb_Standing_MPa\")"
   ]
  },
  {
   "cell_type": "code",
   "execution_count": 6,
   "metadata": {},
   "outputs": [
    {
     "name": "stdout",
     "output_type": "stream",
     "text": [
      "neftpy = 19.2247953146684\n",
      "unifloc vba =  20.170210695316566\n",
      "neftpy плотность воздуха 1.2041512897703845\n"
     ]
    }
   ],
   "source": [
    "rsb_m3m3 = 100\n",
    "gamma_oil = 0.86\n",
    "gamma_gas = 0.6\n",
    "t_K = 350\n",
    "print(f'neftpy = {pvto.unf_pb_Standing_MPaa(t_K, rsb_m3m3, gamma_oil, gamma_gas)}') \n",
    "print(f'unifloc vba =  {unf_pvt_pb_Standing_MPa(rsb_m3m3, gamma_gas, t_K, gamma_oil)}') \n",
    "print(f'neftpy плотность воздуха {uc.RHO_AIR_kgm3}')\n",
    "\n",
    "#   разница значений возникает из за разных оценок плотности воздуха\n",
    "#   "
   ]
  },
  {
   "cell_type": "markdown",
   "metadata": {},
   "source": [
    "разница значений при расчете neftpy и unifloc vba возникает из за разных оценок плотности воздуха\n",
    "\n",
    "* unifloc_vba в расчет неявно сидит в формула $\\rho_{air} = 1.225$  (соответствут плотности при 15С)\n",
    "* в neftpy явно выделена константа где $\\rho_{air} =1.20$  (соответствут плотности при 20С)"
   ]
  },
  {
   "cell_type": "code",
   "execution_count": 7,
   "metadata": {},
   "outputs": [
    {
     "data": {
      "text/plain": [
       "array([ 0.42998783, 12.86606364, 22.71558836, 31.73087492, 40.24216312,\n",
       "       48.39676869])"
      ]
     },
     "execution_count": 7,
     "metadata": {},
     "output_type": "execute_result"
    }
   ],
   "source": [
    "\n",
    "# векторные значения импортированы из расчета unifloc vba\n",
    "gamma_oil = 0.86\n",
    "gamma_gas = 0.6\n",
    "t_K = 353\n",
    "unf_vba_rsb = [1,60.8,120.6,180.4,240.2,300]\n",
    "\n",
    "rsb_m3m3 = np.array(unf_vba_rsb)    \n",
    "\n",
    "pvt.unf_pb_Standing_MPaa(t_K, rsb_m3m3, gamma_oil, gamma_gas)"
   ]
  },
  {
   "cell_type": "markdown",
   "metadata": {},
   "source": [
    "# unf_rs_Standing_m3m3"
   ]
  },
  {
   "cell_type": "code",
   "execution_count": 8,
   "metadata": {},
   "outputs": [],
   "source": [
    "# аналог pvto.unf_rs_Standing_m3m3 в унифлок vba unf_pvt_rs_Standing_m3m3\n",
    "\n",
    "unf_pvt_rs_Standing_m3m3 = book.macro(\"unf_pvt_rs_Standing_m3m3\")"
   ]
  },
  {
   "cell_type": "code",
   "execution_count": 9,
   "metadata": {},
   "outputs": [
    {
     "data": {
      "text/plain": [
       "array(122.7484791)"
      ]
     },
     "execution_count": 9,
     "metadata": {},
     "output_type": "execute_result"
    }
   ],
   "source": [
    "p_MPaa = 10\n",
    "pb_MPaa = 15\n",
    "rsb = 200\n",
    "gamma_oil = 0.86\n",
    "gamma_gas = 0.6\n",
    "t_K = 350\n",
    "pvto.unf_rs_Standing_m3m3(p_MPaa, t_K, pb_MPaa, rsb, gamma_oil, gamma_gas)\n",
    "#                        122.74847910146916, \n",
    "#                        delta=0.0001)"
   ]
  },
  {
   "cell_type": "code",
   "execution_count": 10,
   "metadata": {},
   "outputs": [
    {
     "name": "stdout",
     "output_type": "stream",
     "text": [
      "neftpy = 45.24604018198833\n",
      "unifloc vba =  42.70500034810285\n",
      "1.0\n"
     ]
    }
   ],
   "source": [
    "p_MPaa = 10\n",
    "pb_MPaa = 0\n",
    "rsb = 200\n",
    "gamma_oil = 0.86\n",
    "gamma_gas = 0.6\n",
    "t_K = 350\n",
    "pvto.unf_rs_Standing_m3m3(p_MPaa, t_K, pb_MPaa, rsb, gamma_oil, gamma_gas)\n",
    "#                        122.74847910146916, \n",
    "#                        delta=0.0001)\n",
    "\n",
    "\n",
    "print(f'neftpy = {pvto.unf_rs_Standing_m3m3(p_MPaa, t_K, pb_MPaa, rsb, gamma_oil, gamma_gas)}') \n",
    "a = 1.\n",
    "print(f'unifloc vba =  {unf_pvt_rs_Standing_m3m3(p_MPaa, gamma_gas, t_K, gamma_oil, a)}') \n",
    "print(a)"
   ]
  },
  {
   "cell_type": "markdown",
   "metadata": {},
   "source": [
    "тут тоже разница расчетов из за разной плотности воздуха и соответственно разных значений gamma_gas"
   ]
  },
  {
   "cell_type": "code",
   "execution_count": 11,
   "metadata": {},
   "outputs": [
    {
     "data": {
      "text/plain": [
       "array([ 2.79015288, 16.60905883, 33.09100083, 51.15481285, 70.38965542,\n",
       "       90.56827519])"
      ]
     },
     "execution_count": 11,
     "metadata": {},
     "output_type": "execute_result"
    }
   ],
   "source": [
    "\n",
    "gamma_oil = 0.86\n",
    "gamma_gas = 0.6\n",
    "t_K = 353\n",
    "unf_vba_res = [2.63345652886037,15.6762859290458,31.2325939746016,48.2819334435268,66.436537812051,85.4819163871848]\n",
    "unf_vba_p_MPaa = [1,4.4,7.8,11.2,14.6,18]\n",
    "pb_MPaa = 0\n",
    "rsb = 120\n",
    "\n",
    "\n",
    "p_MPaa = np.array(unf_vba_p_MPaa)\n",
    "res = np.array(unf_vba_res)\n",
    "\n",
    "pvt.unf_rs_Standing_m3m3(p_MPaa, t_K, pb_MPaa, rsb, gamma_oil, gamma_gas)"
   ]
  },
  {
   "cell_type": "code",
   "execution_count": 13,
   "metadata": {},
   "outputs": [
    {
     "data": {
      "text/plain": [
       "array([3.35934407, 4.54484246, 5.10789295, 5.49914238, 5.80473597,\n",
       "       6.0580113 ])"
      ]
     },
     "execution_count": 13,
     "metadata": {},
     "output_type": "execute_result"
    }
   ],
   "source": [
    "gamma_oil = 0.86\n",
    "gamma_gas = 0.6\n",
    "t_K = 353\n",
    "unf_vba_res = [2.63345652886037,15.6762859290458,31.2325939746016,48.2819334435268,66.436537812051,85.4819163871848]\n",
    "unf_vba_p_MPaa = [1,4.4,7.8,11.2,14.6,18]\n",
    "pb_MPaa = 0\n",
    "rsb = 120\n",
    "\n",
    "\n",
    "p_MPaa = np.array(unf_vba_p_MPaa)\n",
    "res = np.array(unf_vba_res)\n",
    "\n",
    "pvt.unf_drs_dp_Standing_m3m3(p_MPaa, t_K, pb_MPaa, rsb, gamma_oil, gamma_gas)"
   ]
  },
  {
   "cell_type": "code",
   "execution_count": 14,
   "metadata": {},
   "outputs": [
    {
     "data": {
      "text/plain": [
       "array([ 7.50207231, 10.14952206, 11.40692392,  0.        ,  0.        ,\n",
       "        0.        ])"
      ]
     },
     "execution_count": 14,
     "metadata": {},
     "output_type": "execute_result"
    }
   ],
   "source": [
    "gamma_oil = 0.86\n",
    "gamma_gas = 0.6\n",
    "t_K = 353\n",
    "unf_vba_res = [2.63345652886037,15.6762859290458,31.2325939746016,48.2819334435268,66.436537812051,85.4819163871848]\n",
    "unf_vba_p_MPaa = [1,4.4,7.8,11.2,14.6,18]\n",
    "pb_MPaa = 10\n",
    "rsb = 120\n",
    "\n",
    "\n",
    "p_MPaa = np.array(unf_vba_p_MPaa)\n",
    "res = np.array(unf_vba_res)\n",
    "\n",
    "pvt.unf_drs_dp_Standing_m3m3(p_MPaa, t_K, pb_MPaa, rsb, gamma_oil, gamma_gas)"
   ]
  },
  {
   "cell_type": "markdown",
   "metadata": {},
   "source": [
    "# unf_rs_Velarde_m3m3"
   ]
  },
  {
   "cell_type": "code",
   "execution_count": 12,
   "metadata": {},
   "outputs": [],
   "source": [
    "# аналог pvto.unf_rs_Velarde_m3m3 в унифлок vba unf_pvt_rs_Velarde_m3m3\n",
    "\n",
    "unf_pvt_rs_Velarde_m3m3 = book.macro(\"unf_pvt_rs_Velarde_m3m3\")"
   ]
  },
  {
   "cell_type": "code",
   "execution_count": 14,
   "metadata": {},
   "outputs": [
    {
     "name": "stdout",
     "output_type": "stream",
     "text": [
      "neftpy = 170.2531379850611\n",
      "unifloc vba =  170.13943535146635\n",
      "1.0\n"
     ]
    }
   ],
   "source": [
    "p_MPaa = 10\n",
    "pb_MPaa = 15\n",
    "rsb = 250\n",
    "gamma_oil = 0.86\n",
    "gamma_gas = 0.6\n",
    "t_K = 350\n",
    "pvto.unf_rs_Velarde_m3m3(p_MPaa, t_K, pb_MPaa, rsb, gamma_oil, gamma_gas)\n",
    "#                        170.25302712587356,\n",
    "#                        delta=0.0001)\n",
    "\n",
    "\n",
    "print(f'neftpy = {pvto.unf_rs_Velarde_m3m3(p_MPaa, t_K, pb_MPaa, rsb, gamma_oil, gamma_gas)}') \n",
    "a = 1.\n",
    "print(f'unifloc vba =  {unf_pvt_rs_Velarde_m3m3(p_MPaa, pb_MPaa, gamma_gas, t_K, gamma_oil, rsb, a)}') \n",
    "print(a)"
   ]
  },
  {
   "cell_type": "code",
   "execution_count": 16,
   "metadata": {},
   "outputs": [
    {
     "data": {
      "text/plain": [
       "np.float64(179.5022473749806)"
      ]
     },
     "execution_count": 16,
     "metadata": {},
     "output_type": "execute_result"
    }
   ],
   "source": [
    "p_MPaa = 10\n",
    "pb_MPaa = 15\n",
    "rsb = 250\n",
    "gamma_oil = 0.86\n",
    "gamma_gas = 0.7\n",
    "t_K = 350\n",
    "pvto._unf_rs_Velarde_m3m3_(p_MPaa, t_K, pb_MPaa, rsb, gamma_oil, gamma_gas)\n",
    "#                        170.25302712587356, \n",
    "#                        delta=0.0001)"
   ]
  },
  {
   "cell_type": "code",
   "execution_count": 17,
   "metadata": {},
   "outputs": [
    {
     "data": {
      "text/plain": [
       "array([ 13.79399931,  47.23193583,  76.53074165, 105.67222853,\n",
       "       120.        , 120.        ])"
      ]
     },
     "execution_count": 17,
     "metadata": {},
     "output_type": "execute_result"
    }
   ],
   "source": [
    "\n",
    "gamma_oil = 0.86\n",
    "gamma_gas = 0.6\n",
    "t_K = 353\n",
    "pb_MPaa = 12.8300024673082\n",
    "rsb = 120\n",
    "unf_vba_res = [13.769156001658,47.1724892015713,76.4710407632712,105.644331604199,120,120]\n",
    "unf_vba_p_MPaa = [1,4.4,7.8,11.2,14.6,18]\n",
    "\n",
    "\n",
    "p_MPaa = np.array(unf_vba_p_MPaa)        \n",
    "res = np.array(unf_vba_res)\n",
    "\n",
    "# получается сходимость на уровне 1 знак после запятой с unifloc vba, что для газосодержания в принципе допустимо\n",
    "# причины расхождени видимо в количестве учитываемых знаков после запятой в константах или в определении стандартных величин\n",
    "# принты далее могут показать расхождения по отдельным значениям\n",
    "#print(unf_vba_res)\n",
    "#print(pvtovect.unf_rs_Velarde_m3m3(p_MPaa, pb_MPaa, rsb, gamma_oil, gamma_gas, t_K))\n",
    "\n",
    "pvt.unf_rs_Velarde_m3m3(p_MPaa, t_K, pb_MPaa, rsb, gamma_oil, gamma_gas)\n",
    " #                           res, \n",
    " #                           rtol=0.01))"
   ]
  },
  {
   "cell_type": "markdown",
   "metadata": {},
   "source": [
    "# unf_bo_below_pb_m3m3"
   ]
  },
  {
   "cell_type": "code",
   "execution_count": 18,
   "metadata": {},
   "outputs": [],
   "source": [
    "# аналог pvto.unf_bo_below_pb_m3m3 в унифлок vba unf_pvt_FVF_McCain_m3m3\n",
    "\n",
    "unf_pvt_FVF_McCain_m3m3 = book.macro(\"unf_pvt_FVF_McCain_m3m3\")"
   ]
  },
  {
   "cell_type": "code",
   "execution_count": 20,
   "metadata": {},
   "outputs": [
    {
     "name": "stdout",
     "output_type": "stream",
     "text": [
      "neftpy = 1.1518270180151782\n",
      "unifloc vba =  1.1543175609756098\n"
     ]
    }
   ],
   "source": [
    "density_oilsto_kgm3 = 800\n",
    "rs_m3m3 = 200\n",
    "density_oil_kgm3 = 820\n",
    "gamma_gas = 0.6\n",
    "pvto.unf_bo_below_pb_m3m3(density_oilsto_kgm3, density_oil_kgm3,  rs_m3m3,  gamma_gas)\n",
    "#                        1.1542114715227887, \n",
    "#                        delta=0.001\n",
    "#                        )\n",
    "\n",
    "print(f'neftpy = {pvto.unf_bo_below_pb_m3m3(density_oilsto_kgm3, density_oil_kgm3,  rs_m3m3,  gamma_gas)}') \n",
    "\n",
    "print(f'unifloc vba =  {unf_pvt_FVF_McCain_m3m3(rs_m3m3,  gamma_gas, density_oilsto_kgm3, density_oil_kgm3)}') \n"
   ]
  },
  {
   "cell_type": "markdown",
   "metadata": {},
   "source": [
    "газ"
   ]
  },
  {
   "cell_type": "code",
   "execution_count": 22,
   "metadata": {},
   "outputs": [
    {
     "data": {
      "text/plain": [
       "(4.567119999999999, 198.8016)"
      ]
     },
     "execution_count": 22,
     "metadata": {},
     "output_type": "execute_result"
    }
   ],
   "source": [
    "gamma_gas = 0.6\n",
    "pvtg.unf_pseudocritical_Standing_p_MPa_t_K(gamma_gas)\n",
    "#                               (5.09893164741181, 198.0708725589674),\n",
    "#                               rtol=0.0001))"
   ]
  }
 ],
 "metadata": {
  "kernelspec": {
   "display_name": ".venv",
   "language": "python",
   "name": "python3"
  },
  "language_info": {
   "codemirror_mode": {
    "name": "ipython",
    "version": 3
   },
   "file_extension": ".py",
   "mimetype": "text/x-python",
   "name": "python",
   "nbconvert_exporter": "python",
   "pygments_lexer": "ipython3",
   "version": "3.12.5"
  }
 },
 "nbformat": 4,
 "nbformat_minor": 2
}
